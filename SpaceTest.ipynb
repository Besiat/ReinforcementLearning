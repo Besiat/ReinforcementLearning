{
 "cells": [
  {
   "cell_type": "code",
   "execution_count": 2,
   "metadata": {
    "collapsed": true
   },
   "outputs": [],
   "source": [
    "import os\n",
    "import sys\n",
    "\n",
    "module_path = os.path.abspath(os.path.join('C:\\\\Users\\\\r.hakimov\\\\Documents\\\\GitHub\\\\ReinforcementLearning'))\n",
    "if module_path not in sys.path:\n",
    "    sys.path.append(module_path)"
   ]
  },
  {
   "cell_type": "code",
   "execution_count": 3,
   "metadata": {},
   "outputs": [
    {
     "name": "stderr",
     "output_type": "stream",
     "text": [
      "Using TensorFlow backend.\n"
     ]
    }
   ],
   "source": [
    "from Models.A2C import A2C\n",
    "from CustomEnvironments.DimensionWalk import DimensionWalk\n",
    "%matplotlib inline\n",
    "import matplotlib\n",
    "import matplotlib.pyplot as plt\n",
    "import numpy as np\n",
    "from Utils import encode_actions\n",
    "NUM_EPOCHS = 5000"
   ]
  },
  {
   "cell_type": "code",
   "execution_count": 7,
   "metadata": {},
   "outputs": [],
   "source": [
    "def run_training(env, model, action_array):\n",
    "    actor_losses = []\n",
    "    critic_losses = []\n",
    "    total_rewards = []\n",
    "    for i_episode in range(NUM_EPOCHS):\n",
    "        if i_episode % 100 == 1:\n",
    "            print(str(i_episode) + ' Total Reward = ' + str(total_rewards[-1]))\n",
    "        states, actions, rewards, next_states, dones = [], [], [], [], []\n",
    "        observation = env.reset()\n",
    "        done = False\n",
    "        k = 0\n",
    "        total_reward = 0\n",
    "        while done == False:\n",
    "\n",
    "            k = k + 1\n",
    "            action = model.predict_action(np.array([observation]))\n",
    "            states.append(observation)\n",
    "            observation, reward, done, info = env.step(action_array[action])\n",
    "            if (i_episode==NUM_EPOCHS-1):\n",
    "                print(env.game_map)\n",
    "            if (k > 100):\n",
    "                done = True\n",
    "\n",
    "            next_states.append(observation)\n",
    "            actions.append(action)\n",
    "            rewards.append(reward)\n",
    "            dones.append(done)\n",
    "            total_reward += reward\n",
    "        actor_loss, critic_loss = model.train(states, actions, rewards, next_states, dones)\n",
    "        total_rewards.append(total_reward)\n",
    "        actor_losses.append(actor_loss)\n",
    "        critic_losses.append(critic_loss)\n",
    "    return total_rewards"
   ]
  },
  {
   "cell_type": "code",
   "execution_count": 37,
   "metadata": {},
   "outputs": [
    {
     "name": "stdout",
     "output_type": "stream",
     "text": [
      "1 Total Reward = -6.266977694568035\n"
     ]
    },
    {
     "name": "stdout",
     "output_type": "stream",
     "text": [
      "101 Total Reward = -6.543336879920947\n"
     ]
    },
    {
     "name": "stdout",
     "output_type": "stream",
     "text": [
      "201 Total Reward = -7.766706559712795\n"
     ]
    },
    {
     "name": "stdout",
     "output_type": "stream",
     "text": [
      "301 Total Reward = 51.810041629496844\n"
     ]
    },
    {
     "name": "stdout",
     "output_type": "stream",
     "text": [
      "401 Total Reward = 49.91074660633484\n"
     ]
    },
    {
     "name": "stdout",
     "output_type": "stream",
     "text": [
      "501 Total Reward = 51.648823529411764\n"
     ]
    },
    {
     "name": "stdout",
     "output_type": "stream",
     "text": [
      "601 Total Reward = 54.016917399143566\n"
     ]
    },
    {
     "name": "stdout",
     "output_type": "stream",
     "text": [
      "701 Total Reward = 54.62094017094017\n"
     ]
    },
    {
     "name": "stdout",
     "output_type": "stream",
     "text": [
      "801 Total Reward = 51.401923076923076\n"
     ]
    },
    {
     "name": "stdout",
     "output_type": "stream",
     "text": [
      "901 Total Reward = 57.2\n"
     ]
    },
    {
     "name": "stdout",
     "output_type": "stream",
     "text": [
      "1001 Total Reward = 52.13027376007207\n"
     ]
    },
    {
     "name": "stdout",
     "output_type": "stream",
     "text": [
      "1101 Total Reward = 50\n"
     ]
    },
    {
     "name": "stdout",
     "output_type": "stream",
     "text": [
      "1201 Total Reward = 51.05\n"
     ]
    },
    {
     "name": "stdout",
     "output_type": "stream",
     "text": [
      "1301 Total Reward = 49.50991560250195\n"
     ]
    },
    {
     "name": "stdout",
     "output_type": "stream",
     "text": [
      "1401 Total Reward = 50\n"
     ]
    },
    {
     "name": "stdout",
     "output_type": "stream",
     "text": [
      "1501 Total Reward = 50.757582582582586\n"
     ]
    },
    {
     "name": "stdout",
     "output_type": "stream",
     "text": [
      "1601 Total Reward = 54.176923076923075\n"
     ]
    },
    {
     "name": "stdout",
     "output_type": "stream",
     "text": [
      "1701 Total Reward = 51.76346153846154\n"
     ]
    },
    {
     "name": "stdout",
     "output_type": "stream",
     "text": [
      "1801 Total Reward = 51.77766968325792\n"
     ]
    },
    {
     "name": "stdout",
     "output_type": "stream",
     "text": [
      "1901 Total Reward = 52.401923076923076\n"
     ]
    },
    {
     "name": "stdout",
     "output_type": "stream",
     "text": [
      "2001 Total Reward = 51.5\n"
     ]
    },
    {
     "name": "stdout",
     "output_type": "stream",
     "text": [
      "2101 Total Reward = 51.9\n"
     ]
    },
    {
     "name": "stdout",
     "output_type": "stream",
     "text": [
      "2201 Total Reward = 50.401923076923076\n"
     ]
    },
    {
     "name": "stdout",
     "output_type": "stream",
     "text": [
      "2301 Total Reward = 50.5\n"
     ]
    },
    {
     "name": "stdout",
     "output_type": "stream",
     "text": [
      "2401 Total Reward = 51.29747863247863\n"
     ]
    },
    {
     "name": "stdout",
     "output_type": "stream",
     "text": [
      "2501 Total Reward = 50.35747863247863\n"
     ]
    },
    {
     "name": "stdout",
     "output_type": "stream",
     "text": [
      "2601 Total Reward = 50.4\n"
     ]
    },
    {
     "name": "stdout",
     "output_type": "stream",
     "text": [
      "2701 Total Reward = 51.748173076923074\n"
     ]
    },
    {
     "name": "stdout",
     "output_type": "stream",
     "text": [
      "2801 Total Reward = 53.50381347410759\n"
     ]
    },
    {
     "name": "stdout",
     "output_type": "stream",
     "text": [
      "2901 Total Reward = 50.5125\n"
     ]
    },
    {
     "name": "stdout",
     "output_type": "stream",
     "text": [
      "3001 Total Reward = 51.29747863247863\n"
     ]
    },
    {
     "name": "stdout",
     "output_type": "stream",
     "text": [
      "3101 Total Reward = 51.297285067873304\n"
     ]
    },
    {
     "name": "stdout",
     "output_type": "stream",
     "text": [
      "3201 Total Reward = 50.4\n"
     ]
    },
    {
     "name": "stdout",
     "output_type": "stream",
     "text": [
      "3301 Total Reward = 51.3\n"
     ]
    },
    {
     "name": "stdout",
     "output_type": "stream",
     "text": [
      "3401 Total Reward = 51.751405835543764\n"
     ]
    },
    {
     "name": "stdout",
     "output_type": "stream",
     "text": [
      "3501 Total Reward = 50\n"
     ]
    },
    {
     "name": "stdout",
     "output_type": "stream",
     "text": [
      "3601 Total Reward = 50.55384615384615\n"
     ]
    },
    {
     "name": "stdout",
     "output_type": "stream",
     "text": [
      "3701 Total Reward = 52.301923076923075\n"
     ]
    },
    {
     "name": "stdout",
     "output_type": "stream",
     "text": [
      "3801 Total Reward = 50.04392015843236\n"
     ]
    },
    {
     "name": "stdout",
     "output_type": "stream",
     "text": [
      "3901 Total Reward = 51.4\n"
     ]
    },
    {
     "name": "stdout",
     "output_type": "stream",
     "text": [
      "4001 Total Reward = 50.44722222222222\n"
     ]
    },
    {
     "name": "stdout",
     "output_type": "stream",
     "text": [
      "4101 Total Reward = 50.401923076923076\n"
     ]
    },
    {
     "name": "stdout",
     "output_type": "stream",
     "text": [
      "4201 Total Reward = 51.19355706385118\n"
     ]
    },
    {
     "name": "stdout",
     "output_type": "stream",
     "text": [
      "4301 Total Reward = 50.19003831417624\n"
     ]
    },
    {
     "name": "stdout",
     "output_type": "stream",
     "text": [
      "4401 Total Reward = 50.211405835543765\n"
     ]
    },
    {
     "name": "stdout",
     "output_type": "stream",
     "text": [
      "4501 Total Reward = 51.4\n"
     ]
    },
    {
     "name": "stdout",
     "output_type": "stream",
     "text": [
      "4601 Total Reward = 50\n"
     ]
    },
    {
     "name": "stdout",
     "output_type": "stream",
     "text": [
      "4701 Total Reward = 50.425\n"
     ]
    },
    {
     "name": "stdout",
     "output_type": "stream",
     "text": [
      "4801 Total Reward = 50.425\n"
     ]
    },
    {
     "name": "stdout",
     "output_type": "stream",
     "text": [
      "4901 Total Reward = 51.38640583554377\n"
     ]
    },
    {
     "name": "stdout",
     "output_type": "stream",
     "text": [
      "[['o' 'o' 'o' 'o' 'o' 'o' 'o' 'o' 'o' 'o']\n ['o' 'o' 'o' 'o' 'o' 'o' 'o' 'o' 'o' 'o']\n ['o' 'o' 'o' 'o' 'o' 'o' 'o' 'o' 'o' 'o']\n ['o' 'o' 'o' 'o' 'o' 'o' 'o' 'o' 'o' 'o']\n ['o' 'o' 'o' 'o' 'o' 'o' 'o' 'o' 'o' 'o']\n ['o' 'o' 'o' 'o' 'o' 'o' 'o' 'o' 'o' 'o']\n ['o' 'o' 'o' 'o' 'o' 'o' 'o' 'o' 'o' 'o']\n ['o' 'o' 'o' 'o' 'o' 'o' 'o' 's' '=' 'o']\n ['o' 'o' 'o' 'o' 'o' 'o' 'o' 'o' 'o' 'o']\n ['o' 'o' 'o' 'o' 'f' 'o' 'o' 'o' 'o' 'o']]\n[['o' 'o' 'o' 'o' 'o' 'o' 'o' 'o' 'o' 'o']\n ['o' 'o' 'o' 'o' 'o' 'o' 'o' 'o' 'o' 'o']\n ['o' 'o' 'o' 'o' 'o' 'o' 'o' 'o' 'o' 'o']\n ['o' 'o' 'o' 'o' 'o' 'o' 'o' 'o' 'o' 'o']\n ['o' 'o' 'o' 'o' 'o' 'o' 'o' 'o' 'o' 'o']\n ['o' 'o' 'o' 'o' 'o' 'o' 'o' 'o' 'o' 'o']\n ['o' 'o' 'o' 'o' 'o' 'o' 'o' 'o' 'o' 'o']\n ['o' 'o' 'o' 'o' 'o' 'o' 's' '=' '=' 'o']\n ['o' 'o' 'o' 'o' 'o' 'o' 'o' 'o' 'o' 'o']\n ['o' 'o' 'o' 'o' 'f' 'o' 'o' 'o' 'o' 'o']]\n[['o' 'o' 'o' 'o' 'o' 'o' 'o' 'o' 'o' 'o']\n ['o' 'o' 'o' 'o' 'o' 'o' 'o' 'o' 'o' 'o']\n ['o' 'o' 'o' 'o' 'o' 'o' 'o' 'o' 'o' 'o']\n ['o' 'o' 'o' 'o' 'o' 'o' 'o' 'o' 'o' 'o']\n ['o' 'o' 'o' 'o' 'o' 'o' 'o' 'o' 'o' 'o']\n ['o' 'o' 'o' 'o' 'o' 'o' 'o' 'o' 'o' 'o']\n ['o' 'o' 'o' 'o' 'o' 'o' 'o' 'o' 'o' 'o']\n ['o' 'o' 'o' 'o' 'o' 'o' '=' '=' '=' 'o']\n ['o' 'o' 'o' 'o' 'o' 's' 'o' 'o' 'o' 'o']\n ['o' 'o' 'o' 'o' 'f' 'o' 'o' 'o' 'o' 'o']]\n[['o' 'o' 'o' 'o' 'o' 'o' 'o' 'o' 'o' 'o']\n ['o' 'o' 'o' 'o' 'o' 'o' 'o' 'o' 'o' 'o']\n ['o' 'o' 'o' 'o' 'o' 'o' 'o' 'o' 'o' 'o']\n ['o' 'o' 'o' 'o' 'o' 'o' 'o' 'o' 'o' 'o']\n ['o' 'o' 'o' 'o' 'o' 'o' 'o' 'o' 'o' 'o']\n ['o' 'o' 'o' 'o' 'o' 'o' 'o' 'o' 'o' 'o']\n ['o' 'o' 'o' 'o' 'o' 'o' 'o' 'o' 'o' 'o']\n ['o' 'o' 'o' 'o' 'o' 'o' '=' '=' '=' 'o']\n ['o' 'o' 'o' 'o' 'o' '=' 'o' 'o' 'o' 'o']\n ['o' 'o' 'o' 'o' 's' 'o' 'o' 'o' 'o' 'o']]\n"
     ]
    }
   ],
   "source": [
    "env = DimensionWalk([10,10])\n",
    "encoded_actions = encode_actions([-1,-1],[1,1],[1,1])\n",
    "model = A2C(env.observation_space,len(encoded_actions),[4],lr_actor=0.005,lr_critic=0.005,gamma=0.99)\n",
    "a2c_total_rewards = run_training(env,model,encoded_actions)"
   ]
  },
  {
   "cell_type": "code",
   "execution_count": 23,
   "metadata": {},
   "outputs": [],
   "source": [
    "def plot_running_reward(total_rewards,gamma = 0.9):    \n",
    "    running_rewards = []\n",
    "    running_reward = 0\n",
    "    for i in range(len(total_rewards)):\n",
    "        running_reward = gamma*running_reward+(1-gamma)*total_rewards[i]\n",
    "        running_rewards.append(running_reward)\n",
    "    plt.plot(range(0,NUM_EPOCHS),running_rewards)\n"
   ]
  },
  {
   "cell_type": "code",
   "execution_count": 38,
   "metadata": {},
   "outputs": [
    {
     "data": {
      "image/png": "[encoded data removed]",
      "text/plain": [
       "<Figure size 432x288 with 1 Axes>"
      ]
     },
     "metadata": {},
     "output_type": "display_data"
    }
   ],
   "source": [
    "plot_running_reward(a2c_total_rewards,0.95)"
   ]
  },
  {
   "cell_type": "code",
   "execution_count": null,
   "metadata": {},
   "outputs": [],
   "source": []
  }
 ],
 "metadata": {
  "kernelspec": {
   "display_name": "Python 2",
   "language": "python",
   "name": "python2"
  },
  "language_info": {
   "codemirror_mode": {
    "name": "ipython",
    "version": 2
   },
   "file_extension": ".py",
   "mimetype": "text/x-python",
   "name": "python",
   "nbconvert_exporter": "python",
   "pygments_lexer": "ipython2",
   "version": "2.7.6"
  }
 },
 "nbformat": 4,
 "nbformat_minor": 0
}
